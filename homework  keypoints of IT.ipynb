{
 "cells": [
  {
   "cell_type": "markdown",
   "metadata": {},
   "source": [
    "# Fundamental of IT \n",
    "###                                                       ----41933049 CFA 张成诚"
   ]
  },
  {
   "cell_type": "markdown",
   "metadata": {},
   "source": [
    "## Intro"
   ]
  },
  {
   "cell_type": "markdown",
   "metadata": {},
   "source": [
    "- ### **Introduction**"
   ]
  },
  {
   "cell_type": "markdown",
   "metadata": {},
   "source": [
    "- ### **History of coputing**"
   ]
  },
  {
   "cell_type": "markdown",
   "metadata": {},
   "source": [
    "- ### **Digital Logic**"
   ]
  },
  {
   "cell_type": "markdown",
   "metadata": {},
   "source": [
    "- ### **Computer Architecture Layer**"
   ]
  },
  {
   "cell_type": "markdown",
   "metadata": {},
   "source": [
    "## Hardware"
   ]
  },
  {
   "cell_type": "markdown",
   "metadata": {},
   "source": [
    "- ### **The Modern Computer**"
   ]
  },
  {
   "cell_type": "markdown",
   "metadata": {},
   "source": [
    "- ### **Components**"
   ]
  },
  {
   "cell_type": "markdown",
   "metadata": {},
   "source": [
    "- ### **Starting It Up**"
   ]
  },
  {
   "cell_type": "markdown",
   "metadata": {},
   "source": [
    "## Operating System"
   ]
  },
  {
   "cell_type": "markdown",
   "metadata": {},
   "source": [
    "- ### **What's an operating system?**"
   ]
  },
  {
   "cell_type": "markdown",
   "metadata": {},
   "source": [
    "#### 1.Components of an Operating System"
   ]
  },
  {
   "cell_type": "markdown",
   "metadata": {},
   "source": [
    " Operating system means the whole package that manages our computer's resources and lets us interact with it. It includes two main part:the Kernel Space and the User Space.\n",
    "  The Kernel is the main core of the operating system, It talks to hardware and manager's system resources. We use User's Space to connect with the Kernel indirectly. Also we uses System programs and user interfaces directly.\n",
    "\n",
    "![同一目录下的图片引用](./user and kernel.png)\n",
    " \n",
    " We foucus on Windows Mac and Linux among hudreds of operating systems. Windows os's developed by Microsoft and used widely in the business and consumeer space, PC usually refers to Windows computer. Mac os will be pre loaded if you buy an apple cpmputer.The last one is Linux operating system, it's an open source operating system, which means its software is free. Share, modify, and distribute is used heavily. Today, Linux has become a huge community effort with developers all over the world contributing to its success. Because Linux is open source, lots of different organizations package their own version of it, we call these different Linux os's distributions. Some common Linux ditributions are open to Ubuntu, Debian and Red hat. Both carlos and Adroid iOS is the Linux kernel underneath hood.\n",
    " \n",
    " ![同一目录下的图片引用](./3.png)\n",
    " \n",
    " The kernel does file storage, file management. just like in an office, we use a system to store files, we don't just put all our files in one cabinet.\n",
    " \n",
    " ![同一目录下的图片引用](./files.png)\n",
    " \n",
    " There are different types of file systems. Another important function of the kernel is process management. We manage the order program run on our sysytem and how many resources they take up on the run. Process scheduler is part of the kernel that makes this multitasking possible. Next is memory management, optimize usage and make sure our applications have enough memory to run. The last important function is input and output(IO management), this is how our kernel talks to external devices like disc, keyboards, networks,connections, audiodevices and so on.\n",
    " \n",
    " ![同一目录下的图片引用](./hardware.png)\n",
    " \n",
    " IO management is anything that can give us input or that we can use for outpute of data. The kernel's ability to management is a basic rundown of the main functions of the file management, process management, memory management and I/O management.\n",
    "\n",
    "![同一目录下的图片引用](./4 management.png)\n",
    "\n",
    "User space is everything outside the kernel, people are the thing we interact with directly."
   ]
  },
  {
   "cell_type": "markdown",
   "metadata": {},
   "source": [
    "#### 2. Files and File Systems"
   ]
  },
  {
   "cell_type": "markdown",
   "metadata": {},
   "source": [
    "- ### **Installing an Operating System**"
   ]
  },
  {
   "cell_type": "markdown",
   "metadata": {},
   "source": [
    "## Networking"
   ]
  },
  {
   "cell_type": "markdown",
   "metadata": {},
   "source": [
    "- ### **What is networking?**"
   ]
  },
  {
   "cell_type": "markdown",
   "metadata": {},
   "source": [
    "- ### **Liminations of tne Internet**"
   ]
  },
  {
   "cell_type": "markdown",
   "metadata": {},
   "source": [
    "- ### **Impact of the Internet**"
   ]
  },
  {
   "cell_type": "markdown",
   "metadata": {},
   "source": [
    "## Sofeware"
   ]
  },
  {
   "cell_type": "markdown",
   "metadata": {},
   "source": [
    "- ### **Intro to Software**"
   ]
  },
  {
   "cell_type": "markdown",
   "metadata": {},
   "source": [
    "- ### **Interacting with Software**"
   ]
  },
  {
   "cell_type": "markdown",
   "metadata": {},
   "source": [
    "## Troubleshooting"
   ]
  },
  {
   "cell_type": "markdown",
   "metadata": {},
   "source": [
    "- ### **Troubleshooting Best Practices**"
   ]
  },
  {
   "cell_type": "markdown",
   "metadata": {},
   "source": [
    "- ### **Customer Service**"
   ]
  },
  {
   "cell_type": "markdown",
   "metadata": {},
   "source": [
    "#### Anatomy of an Interaction"
   ]
  },
  {
   "cell_type": "markdown",
   "metadata": {},
   "source": [
    "#### Intro to Soft Skills"
   ]
  },
  {
   "cell_type": "markdown",
   "metadata": {},
   "source": [
    "- ### **Ducumentation**"
   ]
  }
 ],
 "metadata": {
  "kernelspec": {
   "display_name": "Python 3",
   "language": "python",
   "name": "python3"
  },
  "language_info": {
   "codemirror_mode": {
    "name": "ipython",
    "version": 3
   },
   "file_extension": ".py",
   "mimetype": "text/x-python",
   "name": "python",
   "nbconvert_exporter": "python",
   "pygments_lexer": "ipython3",
   "version": "3.6.1"
  }
 },
 "nbformat": 4,
 "nbformat_minor": 2
}
